{
  "nbformat": 4,
  "nbformat_minor": 0,
  "metadata": {
    "colab": {
      "name": "Plant_Disease_Identifier.ipynb",
      "provenance": [],
      "collapsed_sections": []
    },
    "kernelspec": {
      "name": "python3",
      "display_name": "Python 3"
    },
    "language_info": {
      "name": "python"
    }
  },
  "cells": [
    {
      "cell_type": "code",
      "metadata": {
        "id": "dStzBwM0I5hq"
      },
      "source": [
        "!wget https://github.com/nandakishormpai2001/Plant_Disease_Detector/raw/main/model/dataset.zip"
      ],
      "execution_count": null,
      "outputs": []
    },
    {
      "cell_type": "code",
      "metadata": {
        "id": "w_-vVsdFTRtu"
      },
      "source": [
        "!unzip dataset.zip"
      ],
      "execution_count": null,
      "outputs": []
    },
    {
      "cell_type": "code",
      "metadata": {
        "id": "HJi72ExwQwt7"
      },
      "source": [
        "!pip install -r requirements.txt"
      ],
      "execution_count": null,
      "outputs": []
    },
    {
      "cell_type": "code",
      "metadata": {
        "id": "STy4Cqp3SS11"
      },
      "source": [
        "from PIL import Image\n",
        "import torch\n",
        "import torchvision\n",
        "from torchvision.transforms import ToTensor\n",
        "import torchvision.transforms as transforms\n",
        "import numpy as np\n",
        "import matplotlib.pyplot as plt\n",
        "\n",
        "import torch.nn as nn\n",
        "import torch.optim as optim\n",
        "import torch.nn.functional as F\n",
        "import os\n",
        "import pickle"
      ],
      "execution_count": 2,
      "outputs": []
    },
    {
      "cell_type": "code",
      "metadata": {
        "id": "Wx-fwpX-Stpz"
      },
      "source": [
        "class Dataset():\n",
        "    def __init__(self):\n",
        "        self.labels,self.images = self.load_data()\n",
        "\n",
        "    # To load images and labels for dataloader\n",
        "    def load_data(self):\n",
        "        labels={}\n",
        "        images = {}\n",
        "        count = 0\n",
        "        # setting resize dimensions\n",
        "        resize = transforms.Compose([transforms.Resize((256,256))])\n",
        "        main_dir = os.listdir(os.path.join(\"dataset\",\"train\"))\n",
        "        reference = {}\n",
        "        # iterating through categories\n",
        "        for i,dir in enumerate(main_dir):\n",
        "            reference[dir]=i\n",
        "            images_list = os.listdir(os.path.join(\"dataset\",\"train\",dir))\n",
        "            local_cnt = 0\n",
        "            # iterating through images in a category\n",
        "            for img in images_list:\n",
        "                # 500 images from each category\n",
        "                if local_cnt<500:\n",
        "                    labels[count] = i\n",
        "                    img_path = os.path.join(\"dataset\",\"train\",dir,img)\n",
        "                    image = Image.open(img_path)\n",
        "                    image = ToTensor()(image)\n",
        "                    images[count] = resize(image)\n",
        "                    count+=1\n",
        "                    local_cnt+=1\n",
        "                else:\n",
        "                    break\n",
        "\n",
        "        print(reference)\n",
        "        return labels,images\n",
        "      \n",
        "    def __len__(self):\n",
        "        return len(self.labels)\n",
        "    \n",
        "\n",
        "    # To return x,y values in each iteration over dataloader as batches.\n",
        "    def __getitem__(self, idx):\n",
        "        return (\n",
        "            self.images[idx],\n",
        "            self.labels[idx],\n",
        "        )"
      ],
      "execution_count": 3,
      "outputs": []
    },
    {
      "cell_type": "code",
      "metadata": {
        "id": "yG0jLPt3g_uu"
      },
      "source": [
        "# Inherit from Dataset class\n",
        "class ValDataset(Dataset):\n",
        "\n",
        "    def load_data(self):\n",
        "          labels={}\n",
        "          images = {}\n",
        "          count = 0\n",
        "          resize = transforms.Compose([transforms.Resize((256,256))])\n",
        "          main_dir = os.listdir(os.path.join(\"dataset\",\"valid\"))\n",
        "          for i,dir in enumerate(main_dir):\n",
        "              print(i,dir)\n",
        "              images_list = os.listdir(os.path.join(\"dataset\",\"valid\",dir))\n",
        "              local_cnt = 0\n",
        "              for img in images_list:\n",
        "                  if(local_cnt<100):\n",
        "                      labels[count] = i\n",
        "                      img_path = os.path.join(\"dataset\",\"valid\",dir,img)\n",
        "                      image = Image.open(img_path)\n",
        "                      image = ToTensor()(image)\n",
        "                      images[count] = resize(image)\n",
        "                      count+=1\n",
        "                      local_cnt+=1\n",
        "                  else:\n",
        "                      break\n",
        "\n",
        "          return labels,images\n"
      ],
      "execution_count": 4,
      "outputs": []
    },
    {
      "cell_type": "code",
      "metadata": {
        "id": "ZA5x0xiGQGDC"
      },
      "source": [
        "# Model Architecture\n",
        "class Network(nn.Module):\n",
        "    def __init__(self):\n",
        "        super(Network,self).__init__()\n",
        "\n",
        "        # CNNs for rgb images \n",
        "        self.conv1= nn.Conv2d(in_channels=3,out_channels=6,kernel_size=5)\n",
        "        self.conv2= nn.Conv2d(in_channels=6,out_channels=12,kernel_size=5)\n",
        "        self.conv3= nn.Conv2d(in_channels=12,out_channels=24,kernel_size=5)\n",
        "        self.conv4= nn.Conv2d(in_channels=24,out_channels=48,kernel_size=5)\n",
        "        \n",
        "        # Connecting CNN outputs with Fully Connected layers\n",
        "        self.fc1 = nn.Linear(in_features=48*12*12,out_features=240)\n",
        "        self.fc2 = nn.Linear(in_features=240,out_features=120)\n",
        "        self.out = nn.Linear(in_features=120,out_features=17)\n",
        "        \n",
        "        \n",
        "    def forward(self,t):\n",
        "        t = t\n",
        "        \n",
        "        t=self.conv1(t)\n",
        "        t=F.relu(t)\n",
        "        t=F.max_pool2d(t,kernel_size = 2, stride = 2)\n",
        "        \n",
        "        \n",
        "        t=self.conv2(t)\n",
        "        t=F.relu(t)\n",
        "        t=F.max_pool2d(t,kernel_size = 2, stride = 2)\n",
        "\n",
        "        t=self.conv3(t)\n",
        "        t=F.relu(t)\n",
        "        t=F.max_pool2d(t,kernel_size = 2, stride = 2)\n",
        "\n",
        "        t=self.conv4(t)\n",
        "        t=F.relu(t)\n",
        "        t=F.max_pool2d(t,kernel_size = 2, stride = 2)\n",
        "        \n",
        "        t=t.reshape(-1,48*12*12)\n",
        "        t=self.fc1(t)\n",
        "        t=F.relu(t)\n",
        "        \n",
        "        \n",
        "        t=self.fc2(t)\n",
        "        t=F.relu(t)\n",
        "        \n",
        "        t=self.out(t)\n",
        "        \n",
        "        \n",
        "        return t"
      ],
      "execution_count": 19,
      "outputs": []
    },
    {
      "cell_type": "code",
      "metadata": {
        "id": "ryeGo-1M_cJr"
      },
      "source": [
        "model = Network()"
      ],
      "execution_count": 20,
      "outputs": []
    },
    {
      "cell_type": "code",
      "metadata": {
        "id": "gcJOyp8BKWaZ"
      },
      "source": [
        "dataset = Dataset()"
      ],
      "execution_count": null,
      "outputs": []
    },
    {
      "cell_type": "code",
      "metadata": {
        "id": "vEESPZpR9u_Y"
      },
      "source": [
        "valdataset = ValDataset()"
      ],
      "execution_count": null,
      "outputs": []
    },
    {
      "cell_type": "code",
      "metadata": {
        "id": "6SdDIDphMlqK"
      },
      "source": [
        "# Function to return number of correct predictions in a batch\n",
        "def get_num_correct(preds,labels):\n",
        "    return preds.argmax(dim=1).eq(labels).sum().item()"
      ],
      "execution_count": 8,
      "outputs": []
    },
    {
      "cell_type": "code",
      "metadata": {
        "id": "uqOK7S92LAoi"
      },
      "source": [
        "def train(dataset,valdataset, model):\n",
        "    model.train()\n",
        "\n",
        "    # dataloader in pytorch to load validation and train dataset\n",
        "    dataloader = torch.utils.data.DataLoader(dataset, batch_size=64,shuffle=True)\n",
        "    valdataloader = torch.utils.data.DataLoader(valdataset, batch_size=32,shuffle=True)\n",
        "\n",
        "    # Defining the loss and optimizer\n",
        "    criterion = nn.CrossEntropyLoss()\n",
        "    optimizer = optim.Adam(model.parameters(), lr=0.001)\n",
        "    num_of_epochs = 20\n",
        "    epochs = []\n",
        "    losses = []\n",
        "    for epoch in range(num_of_epochs):\n",
        "        cnt = 0\n",
        "        tot_loss = 0\n",
        "        tot_correct = 0\n",
        "        for batch, (x, y) in enumerate(dataloader):\n",
        "            # Sets the gradients of all optimized tensors to zero\n",
        "            optimizer.zero_grad()\n",
        "            y_pred = model(x)\n",
        "            # Compute loss (here CrossEntropyLoss)\n",
        "            loss = F.cross_entropy(y_pred,y)\n",
        "\n",
        "            loss.backward()\n",
        "            optimizer.step()\n",
        "\n",
        "        for batch, (x, y) in enumerate(valdataloader):\n",
        "            # Sets the gradients of all optimized tensors to zero\n",
        "            optimizer.zero_grad()\n",
        "            with torch.no_grad():\n",
        "                y_pred = model(x)\n",
        "                # Compute loss (here CrossEntropyLoss)\n",
        "                loss = F.cross_entropy(y_pred,y)\n",
        "\n",
        "            tot_loss+=loss.item()\n",
        "            tot_correct +=get_num_correct(y_pred,y)\n",
        "        epochs.append(epoch)\n",
        "        losses.append(tot_loss)\n",
        "        print(\"Epoch\",epoch,\"total_correct\",tot_correct,\"loss:\",tot_loss)\n",
        "        torch.save(model.state_dict(), \"model002_ep\"+str(epoch+1)+\".pth\")\n",
        "\n",
        "    # Plot a Validation Loss vs Epochs graph \n",
        "    plt.plot(epochs, losses, color='green', linewidth = 3, \n",
        "         marker='o', markerfacecolor='blue', markersize=8) \n",
        "    plt.xlabel('epochs ---->',color='m',fontsize='xx-large' ) \n",
        "    plt.ylabel('loss ------>',color='m',fontsize='xx-large') \n",
        "    axes = plt.gca()        # 'gca' - get current axes\n",
        "    axes.set_facecolor('c') #'c' - cyan\n",
        "    axes.tick_params(axis='y', which='both', colors='tomato')\n",
        "    axes.tick_params(axis='x', which='both', colors='#20ff14')\n",
        "    plt.title(\"Val Loss vs Epoch\",color='m',fontsize='xx-large')"
      ],
      "execution_count": 14,
      "outputs": []
    },
    {
      "cell_type": "code",
      "metadata": {
        "id": "h282bBs_OFrC",
        "colab": {
          "base_uri": "https://localhost:8080/",
          "height": 659
        },
        "outputId": "19f0ef6a-92d3-4ffb-8105-8730c096bf89"
      },
      "source": [
        "train(dataset,valdataset, model)"
      ],
      "execution_count": 21,
      "outputs": [
        {
          "output_type": "stream",
          "text": [
            "Epoch 0 total_correct 413 loss: 121.73731422424316\n",
            "Epoch 1 total_correct 725 loss: 91.92743670940399\n",
            "Epoch 2 total_correct 790 loss: 84.59160953760147\n",
            "Epoch 3 total_correct 977 loss: 70.20228296518326\n",
            "Epoch 4 total_correct 1082 loss: 59.31371080875397\n",
            "Epoch 5 total_correct 1139 loss: 51.01481255888939\n",
            "Epoch 6 total_correct 1233 loss: 45.013969242572784\n",
            "Epoch 7 total_correct 1267 loss: 43.16292858123779\n",
            "Epoch 8 total_correct 1268 loss: 41.74965280294418\n",
            "Epoch 9 total_correct 1321 loss: 36.72149619460106\n",
            "Epoch 10 total_correct 1309 loss: 36.947828978300095\n",
            "Epoch 11 total_correct 1303 loss: 40.06897500157356\n",
            "Epoch 12 total_correct 1339 loss: 39.2538605928421\n",
            "Epoch 13 total_correct 1304 loss: 46.184862941503525\n",
            "Epoch 14 total_correct 1360 loss: 40.347060173749924\n",
            "Epoch 15 total_correct 1284 loss: 56.35446451604366\n",
            "Epoch 16 total_correct 1321 loss: 48.104191690683365\n",
            "Epoch 17 total_correct 1321 loss: 48.540457010269165\n",
            "Epoch 18 total_correct 1326 loss: 55.97410994768143\n",
            "Epoch 19 total_correct 1338 loss: 52.43239432293922\n"
          ],
          "name": "stdout"
        },
        {
          "output_type": "display_data",
          "data": {
            "image/png": "[encoded data removed]",
            "text/plain": [
              "<Figure size 432x288 with 1 Axes>"
            ]
          },
          "metadata": {
            "tags": [],
            "needs_background": "dark"
          }
        }
      ]
    },
    {
      "cell_type": "code",
      "metadata": {
        "id": "NXX0aOg-WzE1"
      },
      "source": [
        "# Saving labels to label value as a json\n",
        "main_dir = os.listdir(os.path.join(\"minidataset\",\"train\"))\n",
        "reference = {}\n",
        "for i,dir in enumerate(main_dir):\n",
        "    reference[dir]=i\n",
        "with open('labels.json', 'wb') as iw:\n",
        "    pickle.dump(reference, iw)"
      ],
      "execution_count": null,
      "outputs": []
    },
    {
      "cell_type": "code",
      "metadata": {
        "id": "eleHbjJxXgrf"
      },
      "source": [
        "#Save the trained model\n",
        "torch.save(model.state_dict(), \"model.pth\")"
      ],
      "execution_count": null,
      "outputs": []
    },
    {
      "cell_type": "code",
      "metadata": {
        "id": "g5MXP5iAYFiP"
      },
      "source": [
        "# prediction function to test\n",
        "def predict(img_path):\n",
        "    image = Image.open(img_path)\n",
        "    image = ToTensor()(image)\n",
        "    resize = transforms.Compose([transforms.Resize((256,256))])\n",
        "    y_result = model(resize(image).unsqueeze(0))\n",
        "    result_idx = y_result.argmax(dim=1)\n",
        "    for key,value in reference.items():\n",
        "        if(value==result_idx):\n",
        "            print(key)\n",
        "            break\n",
        "      \n",
        "\n"
      ],
      "execution_count": null,
      "outputs": []
    },
    {
      "cell_type": "code",
      "metadata": {
        "colab": {
          "base_uri": "https://localhost:8080/"
        },
        "id": "xRv63JfPatKB",
        "outputId": "86e06b3f-dd45-49a2-cefd-95390f487af4"
      },
      "source": [
        "predict(\"img_path\")"
      ],
      "execution_count": null,
      "outputs": [
        {
          "output_type": "stream",
          "text": [
            "Potato___healthy\n"
          ],
          "name": "stdout"
        }
      ]
    }
  ]
}